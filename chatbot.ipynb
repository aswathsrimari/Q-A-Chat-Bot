{
 "cells": [
  {
   "cell_type": "code",
   "execution_count": 2,
   "metadata": {},
   "outputs": [],
   "source": [
    "import pickle\n",
    "import numpy as np"
   ]
  },
  {
   "cell_type": "code",
   "execution_count": 4,
   "metadata": {},
   "outputs": [],
   "source": [
    "with open('train_qa.txt','rb') as f:\n",
    "    train_data = pickle.load(f)"
   ]
  },
  {
   "cell_type": "code",
   "execution_count": 5,
   "metadata": {},
   "outputs": [],
   "source": [
    "with open('test_qa.txt','rb') as f:\n",
    "    test_data = pickle.load(f)"
   ]
  },
  {
   "cell_type": "code",
   "execution_count": 6,
   "metadata": {},
   "outputs": [
    {
     "data": {
      "text/plain": [
       "list"
      ]
     },
     "execution_count": 6,
     "metadata": {},
     "output_type": "execute_result"
    }
   ],
   "source": [
    "type(test_data)"
   ]
  },
  {
   "cell_type": "code",
   "execution_count": 7,
   "metadata": {},
   "outputs": [
    {
     "data": {
      "text/plain": [
       "10000"
      ]
     },
     "execution_count": 7,
     "metadata": {},
     "output_type": "execute_result"
    }
   ],
   "source": [
    "len(train_data)"
   ]
  },
  {
   "cell_type": "code",
   "execution_count": 9,
   "metadata": {},
   "outputs": [
    {
     "data": {
      "text/plain": [
       "'Mary moved to the bathroom . Sandra journeyed to the bedroom .'"
      ]
     },
     "execution_count": 9,
     "metadata": {},
     "output_type": "execute_result"
    }
   ],
   "source": [
    "' '.join(train_data[0][0])"
   ]
  },
  {
   "cell_type": "code",
   "execution_count": 10,
   "metadata": {},
   "outputs": [
    {
     "data": {
      "text/plain": [
       "'Is Sandra in the hallway ?'"
      ]
     },
     "execution_count": 10,
     "metadata": {},
     "output_type": "execute_result"
    }
   ],
   "source": [
    "' '.join(train_data[0][1])"
   ]
  },
  {
   "cell_type": "code",
   "execution_count": 12,
   "metadata": {},
   "outputs": [
    {
     "data": {
      "text/plain": [
       "'no'"
      ]
     },
     "execution_count": 12,
     "metadata": {},
     "output_type": "execute_result"
    }
   ],
   "source": [
    "train_data[0][2]"
   ]
  },
  {
   "cell_type": "code",
   "execution_count": 13,
   "metadata": {},
   "outputs": [],
   "source": [
    "all_data = test_data + train_data"
   ]
  },
  {
   "cell_type": "code",
   "execution_count": 14,
   "metadata": {},
   "outputs": [
    {
     "data": {
      "text/plain": [
       "11000"
      ]
     },
     "execution_count": 14,
     "metadata": {},
     "output_type": "execute_result"
    }
   ],
   "source": [
    "len(all_data)"
   ]
  },
  {
   "cell_type": "code",
   "execution_count": 16,
   "metadata": {},
   "outputs": [],
   "source": [
    "vocab = set()\n",
    "for story,question,answer in all_data:\n",
    "    vocab = vocab.union(set(story))\n",
    "    vocab = vocab.union(set(question))"
   ]
  },
  {
   "cell_type": "code",
   "execution_count": 17,
   "metadata": {},
   "outputs": [],
   "source": [
    "vocab.add('yes')\n",
    "vocab.add('no')"
   ]
  },
  {
   "cell_type": "code",
   "execution_count": 18,
   "metadata": {},
   "outputs": [
    {
     "data": {
      "text/plain": [
       "{'.',\n",
       " '?',\n",
       " 'Daniel',\n",
       " 'Is',\n",
       " 'John',\n",
       " 'Mary',\n",
       " 'Sandra',\n",
       " 'apple',\n",
       " 'back',\n",
       " 'bathroom',\n",
       " 'bedroom',\n",
       " 'discarded',\n",
       " 'down',\n",
       " 'dropped',\n",
       " 'football',\n",
       " 'garden',\n",
       " 'got',\n",
       " 'grabbed',\n",
       " 'hallway',\n",
       " 'in',\n",
       " 'journeyed',\n",
       " 'kitchen',\n",
       " 'left',\n",
       " 'milk',\n",
       " 'moved',\n",
       " 'no',\n",
       " 'office',\n",
       " 'picked',\n",
       " 'put',\n",
       " 'the',\n",
       " 'there',\n",
       " 'to',\n",
       " 'took',\n",
       " 'travelled',\n",
       " 'up',\n",
       " 'went',\n",
       " 'yes'}"
      ]
     },
     "execution_count": 18,
     "metadata": {},
     "output_type": "execute_result"
    }
   ],
   "source": [
    "vocab"
   ]
  },
  {
   "cell_type": "code",
   "execution_count": 19,
   "metadata": {},
   "outputs": [],
   "source": [
    "vocab_len = len(vocab) + 1 #1 for placeholder"
   ]
  },
  {
   "cell_type": "code",
   "execution_count": 20,
   "metadata": {},
   "outputs": [
    {
     "data": {
      "text/plain": [
       "38"
      ]
     },
     "execution_count": 20,
     "metadata": {},
     "output_type": "execute_result"
    }
   ],
   "source": [
    "vocab_len"
   ]
  },
  {
   "cell_type": "code",
   "execution_count": 22,
   "metadata": {},
   "outputs": [],
   "source": [
    "#Longest story\n",
    "all_story_lens = [len(data[0]) for data in all_data]"
   ]
  },
  {
   "cell_type": "code",
   "execution_count": 24,
   "metadata": {},
   "outputs": [],
   "source": [
    "max_story_len = max(all_story_lens)"
   ]
  },
  {
   "cell_type": "code",
   "execution_count": 28,
   "metadata": {},
   "outputs": [],
   "source": [
    "max_question_len = max([len(data[1]) for data in all_data])"
   ]
  },
  {
   "cell_type": "code",
   "execution_count": 29,
   "metadata": {},
   "outputs": [
    {
     "data": {
      "text/plain": [
       "6"
      ]
     },
     "execution_count": 29,
     "metadata": {},
     "output_type": "execute_result"
    }
   ],
   "source": [
    "max_question_len"
   ]
  },
  {
   "cell_type": "code",
   "execution_count": 30,
   "metadata": {},
   "outputs": [
    {
     "name": "stderr",
     "output_type": "stream",
     "text": [
      "Using TensorFlow backend.\n"
     ]
    }
   ],
   "source": [
    "from keras.preprocessing.sequence import pad_sequences\n",
    "from keras.preprocessing.text import Tokenizer"
   ]
  },
  {
   "cell_type": "code",
   "execution_count": 31,
   "metadata": {},
   "outputs": [],
   "source": [
    "tokenizer = Tokenizer(filters=[])\n",
    "tokenizer.fit_on_texts(vocab)"
   ]
  },
  {
   "cell_type": "code",
   "execution_count": 32,
   "metadata": {},
   "outputs": [
    {
     "data": {
      "text/plain": [
       "{'john': 1,\n",
       " 'discarded': 2,\n",
       " 'left': 3,\n",
       " 'garden': 4,\n",
       " 'mary': 5,\n",
       " 'up': 6,\n",
       " 'hallway': 7,\n",
       " 'no': 8,\n",
       " 'back': 9,\n",
       " 'kitchen': 10,\n",
       " 'milk': 11,\n",
       " 'grabbed': 12,\n",
       " 'picked': 13,\n",
       " 'apple': 14,\n",
       " 'went': 15,\n",
       " '?': 16,\n",
       " 'to': 17,\n",
       " 'got': 18,\n",
       " '.': 19,\n",
       " 'yes': 20,\n",
       " 'dropped': 21,\n",
       " 'football': 22,\n",
       " 'in': 23,\n",
       " 'took': 24,\n",
       " 'is': 25,\n",
       " 'journeyed': 26,\n",
       " 'bedroom': 27,\n",
       " 'daniel': 28,\n",
       " 'there': 29,\n",
       " 'office': 30,\n",
       " 'moved': 31,\n",
       " 'put': 32,\n",
       " 'the': 33,\n",
       " 'travelled': 34,\n",
       " 'down': 35,\n",
       " 'bathroom': 36,\n",
       " 'sandra': 37}"
      ]
     },
     "execution_count": 32,
     "metadata": {},
     "output_type": "execute_result"
    }
   ],
   "source": [
    "tokenizer.word_index"
   ]
  },
  {
   "cell_type": "code",
   "execution_count": 34,
   "metadata": {},
   "outputs": [],
   "source": [
    "train_story_text = []\n",
    "train_question_text = []\n",
    "train_answers = []\n"
   ]
  },
  {
   "cell_type": "code",
   "execution_count": 35,
   "metadata": {},
   "outputs": [],
   "source": [
    "for story,question,answer in train_data:\n",
    "    train_story_text.append(story)\n",
    "    train_question_text.append(question)\n",
    "    train_answers.append(answer)"
   ]
  },
  {
   "cell_type": "code",
   "execution_count": 38,
   "metadata": {},
   "outputs": [],
   "source": [
    "train_story_seq = tokenizer.texts_to_sequences(train_story_text)"
   ]
  },
  {
   "cell_type": "code",
   "execution_count": 43,
   "metadata": {},
   "outputs": [],
   "source": [
    "def vectorize_stories(data, word_index=tokenizer.word_index, max_story_len=max_story_len,max_question_len=max_question_len):\n",
    "    \n",
    "    \n",
    "    # X = STORIES\n",
    "    X = []\n",
    "    # Xq = QUERY/QUESTION\n",
    "    Xq = []\n",
    "    # Y = CORRECT ANSWER\n",
    "    Y = []\n",
    "    \n",
    "    \n",
    "    for story, query, answer in data:\n",
    "        \n",
    "        # Grab the word index for every word in story\n",
    "        x = [word_index[word.lower()] for word in story]\n",
    "        # Grab the word index for every word in query\n",
    "        xq = [word_index[word.lower()] for word in query]\n",
    "        \n",
    "        # Grab the Answers (either Yes/No so we don't need to use list comprehension here)\n",
    "        # Index 0 is reserved so we're going to use + 1\n",
    "        y = np.zeros(len(word_index) + 1)\n",
    "        \n",
    "        # Now that y is all zeros and we know its just Yes/No , we can use numpy logic to create this assignment\n",
    "        #\n",
    "        y[word_index[answer]] = 1\n",
    "        \n",
    "        # Append each set of story,query, and answer to their respective holding lists\n",
    "        X.append(x)\n",
    "        Xq.append(xq)\n",
    "        Y.append(y)\n",
    "        \n",
    "    # Finally, pad the sequences based on their max length so the RNN can be trained on uniformly long sequences.\n",
    "        \n",
    "    # RETURN TUPLE FOR UNPACKING\n",
    "    return (pad_sequences(X, maxlen=max_story_len),pad_sequences(Xq, maxlen=max_question_len), np.array(Y))"
   ]
  },
  {
   "cell_type": "code",
   "execution_count": null,
   "metadata": {},
   "outputs": [],
   "source": []
  },
  {
   "cell_type": "code",
   "execution_count": 44,
   "metadata": {},
   "outputs": [],
   "source": [
    "inputs_train, queries_train, answers_train = vectorize_stories(train_data)"
   ]
  },
  {
   "cell_type": "code",
   "execution_count": 45,
   "metadata": {},
   "outputs": [],
   "source": [
    "inputs_test, queries_test, answers_test = vectorize_stories(test_data)"
   ]
  },
  {
   "cell_type": "code",
   "execution_count": 46,
   "metadata": {},
   "outputs": [
    {
     "data": {
      "text/plain": [
       "array([[ 0,  0,  0, ..., 33, 27, 19],\n",
       "       [ 0,  0,  0, ..., 33,  4, 19],\n",
       "       [ 0,  0,  0, ..., 33,  4, 19],\n",
       "       ...,\n",
       "       [ 0,  0,  0, ..., 33, 14, 19],\n",
       "       [ 0,  0,  0, ..., 33,  4, 19],\n",
       "       [ 0,  0,  0, ..., 14, 29, 19]])"
      ]
     },
     "execution_count": 46,
     "metadata": {},
     "output_type": "execute_result"
    }
   ],
   "source": [
    "inputs_test"
   ]
  },
  {
   "cell_type": "code",
   "execution_count": 47,
   "metadata": {},
   "outputs": [
    {
     "data": {
      "text/plain": [
       "array([[ 0,  0,  0, ..., 33, 27, 19],\n",
       "       [ 0,  0,  0, ..., 33,  7, 19],\n",
       "       [ 0,  0,  0, ..., 33, 36, 19],\n",
       "       ...,\n",
       "       [ 0,  0,  0, ..., 33, 27, 19],\n",
       "       [ 0,  0,  0, ..., 11, 29, 19],\n",
       "       [ 0,  0,  0, ..., 14, 29, 19]])"
      ]
     },
     "execution_count": 47,
     "metadata": {},
     "output_type": "execute_result"
    }
   ],
   "source": [
    "inputs_train"
   ]
  },
  {
   "cell_type": "code",
   "execution_count": 48,
   "metadata": {},
   "outputs": [
    {
     "data": {
      "text/plain": [
       "array([[0., 0., 0., ..., 0., 0., 0.],\n",
       "       [0., 0., 0., ..., 0., 0., 0.],\n",
       "       [0., 0., 0., ..., 0., 0., 0.],\n",
       "       ...,\n",
       "       [0., 0., 0., ..., 0., 0., 0.],\n",
       "       [0., 0., 0., ..., 0., 0., 0.],\n",
       "       [0., 0., 0., ..., 0., 0., 0.]])"
      ]
     },
     "execution_count": 48,
     "metadata": {},
     "output_type": "execute_result"
    }
   ],
   "source": [
    "answers_test"
   ]
  },
  {
   "cell_type": "code",
   "execution_count": 49,
   "metadata": {},
   "outputs": [
    {
     "data": {
      "text/plain": [
       "array([  0.,   0.,   0.,   0.,   0.,   0.,   0.,   0., 503.,   0.,   0.,\n",
       "         0.,   0.,   0.,   0.,   0.,   0.,   0.,   0.,   0., 497.,   0.,\n",
       "         0.,   0.,   0.,   0.,   0.,   0.,   0.,   0.,   0.,   0.,   0.,\n",
       "         0.,   0.,   0.,   0.,   0.])"
      ]
     },
     "execution_count": 49,
     "metadata": {},
     "output_type": "execute_result"
    }
   ],
   "source": [
    "sum(answers_test)"
   ]
  },
  {
   "cell_type": "code",
   "execution_count": 50,
   "metadata": {},
   "outputs": [],
   "source": [
    "from keras.models import Sequential,Model"
   ]
  },
  {
   "cell_type": "code",
   "execution_count": 51,
   "metadata": {},
   "outputs": [],
   "source": [
    "from keras.layers.embeddings import Embedding"
   ]
  },
  {
   "cell_type": "code",
   "execution_count": 52,
   "metadata": {},
   "outputs": [],
   "source": [
    "from keras.layers import Input,Activation,Dense,Permute,Dropout,add,dot,concatenate,LSTM"
   ]
  },
  {
   "cell_type": "code",
   "execution_count": 53,
   "metadata": {},
   "outputs": [],
   "source": [
    "#placeholder = (max_story_len,batch_size)\n",
    "input_sequence = Input((max_story_len,))\n",
    "question = Input((max_question_len,))"
   ]
  },
  {
   "cell_type": "code",
   "execution_count": 54,
   "metadata": {},
   "outputs": [],
   "source": [
    "vocab_size = len(vocab)+1"
   ]
  },
  {
   "cell_type": "code",
   "execution_count": 55,
   "metadata": {},
   "outputs": [
    {
     "name": "stdout",
     "output_type": "stream",
     "text": [
      "WARNING:tensorflow:From C:\\Users\\user\\Anaconda3\\envs\\nlp_course\\lib\\site-packages\\tensorflow\\python\\framework\\op_def_library.py:263: colocate_with (from tensorflow.python.framework.ops) is deprecated and will be removed in a future version.\n",
      "Instructions for updating:\n",
      "Colocations handled automatically by placer.\n",
      "WARNING:tensorflow:From C:\\Users\\user\\Anaconda3\\envs\\nlp_course\\lib\\site-packages\\keras\\backend\\tensorflow_backend.py:3445: calling dropout (from tensorflow.python.ops.nn_ops) with keep_prob is deprecated and will be removed in a future version.\n",
      "Instructions for updating:\n",
      "Please use `rate` instead of `keep_prob`. Rate should be set to `rate = 1 - keep_prob`.\n"
     ]
    }
   ],
   "source": [
    "#Input_encoder M\n",
    "input_encoder_m = Sequential()\n",
    "input_encoder_m.add(Embedding(input_dim=vocab_size,output_dim=64))\n",
    "input_encoder_m.add(Dropout(0.3))"
   ]
  },
  {
   "cell_type": "code",
   "execution_count": 56,
   "metadata": {},
   "outputs": [],
   "source": [
    "#Input_encoder C\n",
    "input_encoder_c = Sequential()\n",
    "input_encoder_c.add(Embedding(input_dim=vocab_size,output_dim=max_question_len))\n",
    "input_encoder_c.add(Dropout(0.3))"
   ]
  },
  {
   "cell_type": "code",
   "execution_count": 57,
   "metadata": {},
   "outputs": [],
   "source": [
    "#question encoder\n",
    "question_encoder = Sequential()\n",
    "question_encoder.add(Embedding(input_dim=vocab_size,output_dim = 64))\n",
    "question_encoder.add(Dropout(0.3))"
   ]
  },
  {
   "cell_type": "code",
   "execution_count": 58,
   "metadata": {},
   "outputs": [],
   "source": [
    "#Encoder(input)---> encoded\n",
    "input_encoded_m = input_encoder_m(input_sequence)\n",
    "input_encoded_c = input_encoder_c(input_sequence)\n",
    "question_encoded = question_encoder(question)"
   ]
  },
  {
   "cell_type": "code",
   "execution_count": 59,
   "metadata": {},
   "outputs": [],
   "source": [
    "match = dot([input_encoded_m,question_encoded],axes=(2,2))\n",
    "match = Activation('softmax')(match)"
   ]
  },
  {
   "cell_type": "code",
   "execution_count": 60,
   "metadata": {},
   "outputs": [],
   "source": [
    "response = add([match,input_encoded_c])\n",
    "response = Permute((2,1))(response)"
   ]
  },
  {
   "cell_type": "code",
   "execution_count": 61,
   "metadata": {},
   "outputs": [],
   "source": [
    "answer = concatenate([response,question_encoded])"
   ]
  },
  {
   "cell_type": "code",
   "execution_count": 62,
   "metadata": {},
   "outputs": [
    {
     "data": {
      "text/plain": [
       "<tf.Tensor 'concatenate_1/concat:0' shape=(?, 6, 220) dtype=float32>"
      ]
     },
     "execution_count": 62,
     "metadata": {},
     "output_type": "execute_result"
    }
   ],
   "source": [
    "answer"
   ]
  },
  {
   "cell_type": "code",
   "execution_count": 63,
   "metadata": {},
   "outputs": [],
   "source": [
    "answer = LSTM(32)(answer)"
   ]
  },
  {
   "cell_type": "code",
   "execution_count": 64,
   "metadata": {},
   "outputs": [],
   "source": [
    "answer = Dropout(0.5)(answer)\n",
    "answer = Dense(vocab_size)(answer)"
   ]
  },
  {
   "cell_type": "code",
   "execution_count": 65,
   "metadata": {},
   "outputs": [],
   "source": [
    "answer = Activation('softmax')(answer)"
   ]
  },
  {
   "cell_type": "code",
   "execution_count": 66,
   "metadata": {},
   "outputs": [],
   "source": [
    "model = Model([input_sequence,question],answer)"
   ]
  },
  {
   "cell_type": "code",
   "execution_count": 67,
   "metadata": {},
   "outputs": [],
   "source": [
    "model.compile(optimizer='rmsprop',loss='categorical_crossentropy',metrics=['accuracy'])"
   ]
  },
  {
   "cell_type": "code",
   "execution_count": 68,
   "metadata": {
    "scrolled": true
   },
   "outputs": [
    {
     "name": "stdout",
     "output_type": "stream",
     "text": [
      "__________________________________________________________________________________________________\n",
      "Layer (type)                    Output Shape         Param #     Connected to                     \n",
      "==================================================================================================\n",
      "input_1 (InputLayer)            (None, 156)          0                                            \n",
      "__________________________________________________________________________________________________\n",
      "input_2 (InputLayer)            (None, 6)            0                                            \n",
      "__________________________________________________________________________________________________\n",
      "sequential_1 (Sequential)       multiple             2432        input_1[0][0]                    \n",
      "__________________________________________________________________________________________________\n",
      "sequential_3 (Sequential)       multiple             2432        input_2[0][0]                    \n",
      "__________________________________________________________________________________________________\n",
      "dot_1 (Dot)                     (None, 156, 6)       0           sequential_1[1][0]               \n",
      "                                                                 sequential_3[1][0]               \n",
      "__________________________________________________________________________________________________\n",
      "activation_1 (Activation)       (None, 156, 6)       0           dot_1[0][0]                      \n",
      "__________________________________________________________________________________________________\n",
      "sequential_2 (Sequential)       multiple             228         input_1[0][0]                    \n",
      "__________________________________________________________________________________________________\n",
      "add_1 (Add)                     (None, 156, 6)       0           activation_1[0][0]               \n",
      "                                                                 sequential_2[1][0]               \n",
      "__________________________________________________________________________________________________\n",
      "permute_1 (Permute)             (None, 6, 156)       0           add_1[0][0]                      \n",
      "__________________________________________________________________________________________________\n",
      "concatenate_1 (Concatenate)     (None, 6, 220)       0           permute_1[0][0]                  \n",
      "                                                                 sequential_3[1][0]               \n",
      "__________________________________________________________________________________________________\n",
      "lstm_1 (LSTM)                   (None, 32)           32384       concatenate_1[0][0]              \n",
      "__________________________________________________________________________________________________\n",
      "dropout_4 (Dropout)             (None, 32)           0           lstm_1[0][0]                     \n",
      "__________________________________________________________________________________________________\n",
      "dense_1 (Dense)                 (None, 38)           1254        dropout_4[0][0]                  \n",
      "__________________________________________________________________________________________________\n",
      "activation_2 (Activation)       (None, 38)           0           dense_1[0][0]                    \n",
      "==================================================================================================\n",
      "Total params: 38,730\n",
      "Trainable params: 38,730\n",
      "Non-trainable params: 0\n",
      "__________________________________________________________________________________________________\n"
     ]
    }
   ],
   "source": [
    "model.summary()"
   ]
  },
  {
   "cell_type": "code",
   "execution_count": 69,
   "metadata": {},
   "outputs": [
    {
     "name": "stdout",
     "output_type": "stream",
     "text": [
      "WARNING:tensorflow:From C:\\Users\\user\\Anaconda3\\envs\\nlp_course\\lib\\site-packages\\tensorflow\\python\\ops\\math_ops.py:3066: to_int32 (from tensorflow.python.ops.math_ops) is deprecated and will be removed in a future version.\n",
      "Instructions for updating:\n",
      "Use tf.cast instead.\n",
      "WARNING:tensorflow:From C:\\Users\\user\\Anaconda3\\envs\\nlp_course\\lib\\site-packages\\tensorflow\\python\\ops\\math_grad.py:102: div (from tensorflow.python.ops.math_ops) is deprecated and will be removed in a future version.\n",
      "Instructions for updating:\n",
      "Deprecated in favor of operator or tf.math.divide.\n",
      "Train on 10000 samples, validate on 1000 samples\n",
      "Epoch 1/120\n",
      "10000/10000 [==============================] - 15s 2ms/step - loss: 0.8901 - acc: 0.5058 - val_loss: 0.6949 - val_acc: 0.4970\n",
      "Epoch 2/120\n",
      "10000/10000 [==============================] - 6s 581us/step - loss: 0.7060 - acc: 0.4887 - val_loss: 0.6957 - val_acc: 0.4970\n",
      "Epoch 3/120\n",
      "10000/10000 [==============================] - 6s 569us/step - loss: 0.6963 - acc: 0.4912 - val_loss: 0.6945 - val_acc: 0.5030\n",
      "Epoch 4/120\n",
      "10000/10000 [==============================] - 6s 587us/step - loss: 0.6950 - acc: 0.4941 - val_loss: 0.6935 - val_acc: 0.4970\n",
      "Epoch 5/120\n",
      "10000/10000 [==============================] - 6s 571us/step - loss: 0.6946 - acc: 0.4979 - val_loss: 0.6932 - val_acc: 0.5030\n",
      "Epoch 6/120\n",
      "10000/10000 [==============================] - 7s 655us/step - loss: 0.6944 - acc: 0.5047 - val_loss: 0.6935 - val_acc: 0.4970\n",
      "Epoch 7/120\n",
      "10000/10000 [==============================] - 6s 642us/step - loss: 0.6949 - acc: 0.5001 - val_loss: 0.6976 - val_acc: 0.4970\n",
      "Epoch 8/120\n",
      "10000/10000 [==============================] - 6s 643us/step - loss: 0.6944 - acc: 0.5074 - val_loss: 0.6938 - val_acc: 0.4970\n",
      "Epoch 9/120\n",
      "10000/10000 [==============================] - 6s 618us/step - loss: 0.6942 - acc: 0.5014 - val_loss: 0.6933 - val_acc: 0.5000\n",
      "Epoch 10/120\n",
      "10000/10000 [==============================] - 6s 617us/step - loss: 0.6932 - acc: 0.5106 - val_loss: 0.6930 - val_acc: 0.5030\n",
      "Epoch 11/120\n",
      "10000/10000 [==============================] - 6s 629us/step - loss: 0.6870 - acc: 0.5310 - val_loss: 0.6866 - val_acc: 0.5550\n",
      "Epoch 12/120\n",
      "10000/10000 [==============================] - 6s 635us/step - loss: 0.6694 - acc: 0.5649 - val_loss: 0.6488 - val_acc: 0.6280\n",
      "Epoch 13/120\n",
      "10000/10000 [==============================] - 6s 627us/step - loss: 0.6404 - acc: 0.6145 - val_loss: 0.6345 - val_acc: 0.5810\n",
      "Epoch 14/120\n",
      "10000/10000 [==============================] - 6s 628us/step - loss: 0.6223 - acc: 0.6364 - val_loss: 0.5984 - val_acc: 0.6720\n",
      "Epoch 15/120\n",
      "10000/10000 [==============================] - 8s 750us/step - loss: 0.6041 - acc: 0.6629 - val_loss: 0.5769 - val_acc: 0.7060\n",
      "Epoch 16/120\n",
      "10000/10000 [==============================] - 7s 663us/step - loss: 0.5877 - acc: 0.6895 - val_loss: 0.5772 - val_acc: 0.6920\n",
      "Epoch 17/120\n",
      "10000/10000 [==============================] - 6s 625us/step - loss: 0.5685 - acc: 0.7130 - val_loss: 0.5378 - val_acc: 0.7300\n",
      "Epoch 18/120\n",
      "10000/10000 [==============================] - 7s 657us/step - loss: 0.5346 - acc: 0.7417 - val_loss: 0.5147 - val_acc: 0.7570\n",
      "Epoch 19/120\n",
      "10000/10000 [==============================] - 6s 636us/step - loss: 0.5083 - acc: 0.7598 - val_loss: 0.4851 - val_acc: 0.7890\n",
      "Epoch 20/120\n",
      "10000/10000 [==============================] - 6s 645us/step - loss: 0.4835 - acc: 0.7831 - val_loss: 0.4553 - val_acc: 0.8100.48\n",
      "Epoch 21/120\n",
      "10000/10000 [==============================] - 6s 624us/step - loss: 0.4594 - acc: 0.7991 - val_loss: 0.4393 - val_acc: 0.8270\n",
      "Epoch 22/120\n",
      "10000/10000 [==============================] - 6s 639us/step - loss: 0.4470 - acc: 0.8090 - val_loss: 0.4194 - val_acc: 0.8200\n",
      "Epoch 23/120\n",
      "10000/10000 [==============================] - 6s 633us/step - loss: 0.4300 - acc: 0.8173 - val_loss: 0.4091 - val_acc: 0.8170\n",
      "Epoch 24/120\n",
      "10000/10000 [==============================] - 6s 641us/step - loss: 0.4223 - acc: 0.8262 - val_loss: 0.4281 - val_acc: 0.8080\n",
      "Epoch 25/120\n",
      "10000/10000 [==============================] - 7s 651us/step - loss: 0.4068 - acc: 0.8357 - val_loss: 0.4187 - val_acc: 0.8340\n",
      "Epoch 26/120\n",
      "10000/10000 [==============================] - 6s 625us/step - loss: 0.3947 - acc: 0.8369 - val_loss: 0.4310 - val_acc: 0.8200\n",
      "Epoch 27/120\n",
      "10000/10000 [==============================] - 6s 623us/step - loss: 0.3903 - acc: 0.8410 - val_loss: 0.3895 - val_acc: 0.8380\n",
      "Epoch 28/120\n",
      "10000/10000 [==============================] - 7s 658us/step - loss: 0.3793 - acc: 0.8453 - val_loss: 0.3873 - val_acc: 0.8390\n",
      "Epoch 29/120\n",
      "10000/10000 [==============================] - 7s 666us/step - loss: 0.3707 - acc: 0.8472 - val_loss: 0.4109 - val_acc: 0.8240\n",
      "Epoch 30/120\n",
      "10000/10000 [==============================] - 7s 655us/step - loss: 0.3705 - acc: 0.8471 - val_loss: 0.3714 - val_acc: 0.8300\n",
      "Epoch 31/120\n",
      "10000/10000 [==============================] - 6s 646us/step - loss: 0.3636 - acc: 0.8556 - val_loss: 0.3646 - val_acc: 0.8330\n",
      "Epoch 32/120\n",
      "10000/10000 [==============================] - 7s 654us/step - loss: 0.3536 - acc: 0.8571 - val_loss: 0.3931 - val_acc: 0.8430s - los\n",
      "Epoch 33/120\n",
      "10000/10000 [==============================] - 6s 638us/step - loss: 0.3550 - acc: 0.8546 - val_loss: 0.3822 - val_acc: 0.8350\n",
      "Epoch 34/120\n",
      "10000/10000 [==============================] - 7s 650us/step - loss: 0.3473 - acc: 0.8566 - val_loss: 0.3582 - val_acc: 0.8420\n",
      "Epoch 35/120\n",
      "10000/10000 [==============================] - 8s 839us/step - loss: 0.3488 - acc: 0.8582 - val_loss: 0.3544 - val_acc: 0.8460\n",
      "Epoch 36/120\n",
      "10000/10000 [==============================] - 7s 675us/step - loss: 0.3422 - acc: 0.8612 - val_loss: 0.3859 - val_acc: 0.8440\n",
      "Epoch 37/120\n",
      "10000/10000 [==============================] - 6s 650us/step - loss: 0.3411 - acc: 0.8591 - val_loss: 0.3679 - val_acc: 0.8350 0.3394 - acc: 0.8\n",
      "Epoch 38/120\n",
      "10000/10000 [==============================] - 7s 691us/step - loss: 0.3352 - acc: 0.8597 - val_loss: 0.3562 - val_acc: 0.8400\n",
      "Epoch 39/120\n",
      "10000/10000 [==============================] - 7s 689us/step - loss: 0.3362 - acc: 0.8620 - val_loss: 0.3675 - val_acc: 0.8300\n",
      "Epoch 40/120\n",
      "10000/10000 [==============================] - 6s 631us/step - loss: 0.3339 - acc: 0.8586 - val_loss: 0.3748 - val_acc: 0.8390 1s - los\n",
      "Epoch 41/120\n",
      "10000/10000 [==============================] - 6s 627us/step - loss: 0.3317 - acc: 0.8593 - val_loss: 0.3483 - val_acc: 0.8530\n",
      "Epoch 42/120\n",
      "10000/10000 [==============================] - 6s 632us/step - loss: 0.3252 - acc: 0.8618 - val_loss: 0.3517 - val_acc: 0.8430\n",
      "Epoch 43/120\n",
      "10000/10000 [==============================] - 6s 637us/step - loss: 0.3298 - acc: 0.8631 - val_loss: 0.3556 - val_acc: 0.8430\n",
      "Epoch 44/120\n",
      "10000/10000 [==============================] - 6s 630us/step - loss: 0.3252 - acc: 0.8625 - val_loss: 0.3642 - val_acc: 0.8410\n",
      "Epoch 45/120\n",
      "10000/10000 [==============================] - 7s 666us/step - loss: 0.3202 - acc: 0.8668 - val_loss: 0.3445 - val_acc: 0.8480\n",
      "Epoch 46/120\n",
      "10000/10000 [==============================] - 6s 645us/step - loss: 0.3219 - acc: 0.8634 - val_loss: 0.3631 - val_acc: 0.8290\n",
      "Epoch 47/120\n",
      "10000/10000 [==============================] - 6s 626us/step - loss: 0.3198 - acc: 0.8651 - val_loss: 0.3594 - val_acc: 0.8450\n",
      "Epoch 48/120\n",
      "10000/10000 [==============================] - 7s 712us/step - loss: 0.3135 - acc: 0.8628 - val_loss: 0.3490 - val_acc: 0.8500\n",
      "Epoch 49/120\n",
      "10000/10000 [==============================] - 7s 651us/step - loss: 0.3151 - acc: 0.8627 - val_loss: 0.3441 - val_acc: 0.8490\n",
      "Epoch 50/120\n",
      "10000/10000 [==============================] - 6s 579us/step - loss: 0.3133 - acc: 0.8634 - val_loss: 0.3479 - val_acc: 0.8420\n",
      "Epoch 51/120\n",
      "10000/10000 [==============================] - 6s 580us/step - loss: 0.3106 - acc: 0.8649 - val_loss: 0.3506 - val_acc: 0.8470\n",
      "Epoch 52/120\n",
      "10000/10000 [==============================] - 6s 642us/step - loss: 0.3118 - acc: 0.8649 - val_loss: 0.3538 - val_acc: 0.8470\n",
      "Epoch 53/120\n",
      "10000/10000 [==============================] - 7s 680us/step - loss: 0.3090 - acc: 0.8680 - val_loss: 0.3510 - val_acc: 0.8430\n",
      "Epoch 54/120\n",
      "10000/10000 [==============================] - 6s 583us/step - loss: 0.3121 - acc: 0.8659 - val_loss: 0.3385 - val_acc: 0.8460\n",
      "Epoch 55/120\n",
      "10000/10000 [==============================] - 6s 569us/step - loss: 0.3053 - acc: 0.8712 - val_loss: 0.3496 - val_acc: 0.8430- los\n",
      "Epoch 56/120\n",
      "10000/10000 [==============================] - 5s 546us/step - loss: 0.3107 - acc: 0.8672 - val_loss: 0.3383 - val_acc: 0.8470\n",
      "Epoch 57/120\n",
      "10000/10000 [==============================] - 6s 565us/step - loss: 0.3038 - acc: 0.8695 - val_loss: 0.3497 - val_acc: 0.8420\n",
      "Epoch 58/120\n",
      "10000/10000 [==============================] - 5s 548us/step - loss: 0.3023 - acc: 0.8681 - val_loss: 0.3731 - val_acc: 0.8340\n",
      "Epoch 59/120\n",
      "10000/10000 [==============================] - 6s 561us/step - loss: 0.3058 - acc: 0.8639 - val_loss: 0.3492 - val_acc: 0.8490\n",
      "Epoch 60/120\n",
      "10000/10000 [==============================] - 6s 580us/step - loss: 0.3011 - acc: 0.8672 - val_loss: 0.3669 - val_acc: 0.8250\n",
      "Epoch 61/120\n",
      "10000/10000 [==============================] - 6s 581us/step - loss: 0.3015 - acc: 0.8680 - val_loss: 0.3532 - val_acc: 0.8460\n",
      "Epoch 62/120\n",
      "10000/10000 [==============================] - 6s 579us/step - loss: 0.3047 - acc: 0.8682 - val_loss: 0.3546 - val_acc: 0.8290\n",
      "Epoch 63/120\n",
      "10000/10000 [==============================] - 6s 584us/step - loss: 0.3016 - acc: 0.8678 - val_loss: 0.3455 - val_acc: 0.8420\n",
      "Epoch 64/120\n",
      "10000/10000 [==============================] - 6s 582us/step - loss: 0.2974 - acc: 0.8713 - val_loss: 0.3542 - val_acc: 0.8330\n",
      "Epoch 65/120\n",
      "10000/10000 [==============================] - 6s 587us/step - loss: 0.2997 - acc: 0.8701 - val_loss: 0.3561 - val_acc: 0.8430\n",
      "Epoch 66/120\n",
      "10000/10000 [==============================] - 6s 579us/step - loss: 0.2977 - acc: 0.8689 - val_loss: 0.3682 - val_acc: 0.8380\n",
      "Epoch 67/120\n",
      "10000/10000 [==============================] - 6s 576us/step - loss: 0.2956 - acc: 0.8697 - val_loss: 0.3687 - val_acc: 0.8390\n",
      "Epoch 68/120\n",
      "10000/10000 [==============================] - 6s 592us/step - loss: 0.2978 - acc: 0.8726 - val_loss: 0.3575 - val_acc: 0.8390\n",
      "Epoch 69/120\n",
      "10000/10000 [==============================] - 6s 587us/step - loss: 0.2930 - acc: 0.8704 - val_loss: 0.3486 - val_acc: 0.8390\n",
      "Epoch 70/120\n",
      "10000/10000 [==============================] - 6s 585us/step - loss: 0.2936 - acc: 0.8740 - val_loss: 0.3456 - val_acc: 0.8440\n",
      "Epoch 71/120\n",
      "10000/10000 [==============================] - 6s 606us/step - loss: 0.2963 - acc: 0.8698 - val_loss: 0.3423 - val_acc: 0.8370\n",
      "Epoch 72/120\n",
      "10000/10000 [==============================] - 6s 592us/step - loss: 0.2940 - acc: 0.8709 - val_loss: 0.3591 - val_acc: 0.8340\n",
      "Epoch 73/120\n",
      "10000/10000 [==============================] - 6s 593us/step - loss: 0.2915 - acc: 0.8707 - val_loss: 0.3686 - val_acc: 0.8390\n",
      "Epoch 74/120\n",
      "10000/10000 [==============================] - 6s 577us/step - loss: 0.2935 - acc: 0.8722 - val_loss: 0.3571 - val_acc: 0.8430\n",
      "Epoch 75/120\n",
      "10000/10000 [==============================] - 6s 579us/step - loss: 0.2851 - acc: 0.8752 - val_loss: 0.3926 - val_acc: 0.8300\n",
      "Epoch 76/120\n",
      "10000/10000 [==============================] - 6s 596us/step - loss: 0.2937 - acc: 0.8729 - val_loss: 0.3728 - val_acc: 0.8340\n",
      "Epoch 77/120\n",
      "10000/10000 [==============================] - 6s 589us/step - loss: 0.2921 - acc: 0.8736 - val_loss: 0.3881 - val_acc: 0.8350\n",
      "Epoch 78/120\n",
      "10000/10000 [==============================] - 6s 609us/step - loss: 0.2826 - acc: 0.8761 - val_loss: 0.3871 - val_acc: 0.8360\n",
      "Epoch 79/120\n",
      "10000/10000 [==============================] - 6s 586us/step - loss: 0.2920 - acc: 0.8756 - val_loss: 0.3712 - val_acc: 0.8360\n",
      "Epoch 80/120\n",
      "10000/10000 [==============================] - 6s 588us/step - loss: 0.2893 - acc: 0.8720 - val_loss: 0.3768 - val_acc: 0.8320\n",
      "Epoch 81/120\n",
      "10000/10000 [==============================] - 8s 839us/step - loss: 0.2880 - acc: 0.8719 - val_loss: 0.3774 - val_acc: 0.8390\n",
      "Epoch 82/120\n",
      "10000/10000 [==============================] - 6s 609us/step - loss: 0.2864 - acc: 0.8777 - val_loss: 0.3574 - val_acc: 0.8430\n",
      "Epoch 83/120\n",
      "10000/10000 [==============================] - 6s 602us/step - loss: 0.2852 - acc: 0.8764 - val_loss: 0.4223 - val_acc: 0.8350\n",
      "Epoch 84/120\n",
      "10000/10000 [==============================] - 6s 597us/step - loss: 0.2841 - acc: 0.8758 - val_loss: 0.3728 - val_acc: 0.8320\n",
      "Epoch 85/120\n",
      "10000/10000 [==============================] - 6s 600us/step - loss: 0.2850 - acc: 0.8766 - val_loss: 0.3608 - val_acc: 0.8340\n",
      "Epoch 86/120\n",
      "10000/10000 [==============================] - 6s 593us/step - loss: 0.2843 - acc: 0.8763 - val_loss: 0.4041 - val_acc: 0.8380\n",
      "Epoch 87/120\n",
      "10000/10000 [==============================] - 6s 581us/step - loss: 0.2820 - acc: 0.8780 - val_loss: 0.3925 - val_acc: 0.8270\n",
      "Epoch 88/120\n",
      "10000/10000 [==============================] - 6s 603us/step - loss: 0.2818 - acc: 0.8796 - val_loss: 0.4174 - val_acc: 0.8280\n",
      "Epoch 89/120\n",
      "10000/10000 [==============================] - 6s 589us/step - loss: 0.2859 - acc: 0.8747 - val_loss: 0.3886 - val_acc: 0.8280\n",
      "Epoch 90/120\n",
      "10000/10000 [==============================] - 6s 592us/step - loss: 0.2786 - acc: 0.8768 - val_loss: 0.3709 - val_acc: 0.8270\n",
      "Epoch 91/120\n",
      "10000/10000 [==============================] - 6s 593us/step - loss: 0.2798 - acc: 0.8782 - val_loss: 0.3699 - val_acc: 0.8270\n",
      "Epoch 92/120\n",
      "10000/10000 [==============================] - 6s 600us/step - loss: 0.2779 - acc: 0.8811 - val_loss: 0.3951 - val_acc: 0.8270\n",
      "Epoch 93/120\n",
      "10000/10000 [==============================] - 6s 608us/step - loss: 0.2788 - acc: 0.8814 - val_loss: 0.3722 - val_acc: 0.8350\n",
      "Epoch 94/120\n",
      "10000/10000 [==============================] - 6s 588us/step - loss: 0.2812 - acc: 0.8764 - val_loss: 0.3634 - val_acc: 0.8280\n",
      "Epoch 95/120\n",
      "10000/10000 [==============================] - 6s 579us/step - loss: 0.2742 - acc: 0.8804 - val_loss: 0.3888 - val_acc: 0.8210\n",
      "Epoch 96/120\n",
      "10000/10000 [==============================] - 6s 587us/step - loss: 0.2775 - acc: 0.8797 - val_loss: 0.4146 - val_acc: 0.8330\n",
      "Epoch 97/120\n",
      "10000/10000 [==============================] - 6s 595us/step - loss: 0.2693 - acc: 0.8851 - val_loss: 0.3982 - val_acc: 0.8310\n",
      "Epoch 98/120\n",
      "10000/10000 [==============================] - 6s 606us/step - loss: 0.2746 - acc: 0.8833 - val_loss: 0.3815 - val_acc: 0.8300\n",
      "Epoch 99/120\n",
      "10000/10000 [==============================] - 6s 602us/step - loss: 0.2692 - acc: 0.8829 - val_loss: 0.4192 - val_acc: 0.8350\n",
      "Epoch 100/120\n",
      "10000/10000 [==============================] - 6s 586us/step - loss: 0.2735 - acc: 0.8807 - val_loss: 0.4200 - val_acc: 0.8300\n",
      "Epoch 101/120\n",
      "10000/10000 [==============================] - 6s 593us/step - loss: 0.2732 - acc: 0.8843 - val_loss: 0.4016 - val_acc: 0.8320\n",
      "Epoch 102/120\n",
      "10000/10000 [==============================] - 6s 645us/step - loss: 0.2689 - acc: 0.8856 - val_loss: 0.3693 - val_acc: 0.8190\n",
      "Epoch 103/120\n",
      "10000/10000 [==============================] - 6s 601us/step - loss: 0.2689 - acc: 0.8847 - val_loss: 0.4145 - val_acc: 0.8230 - loss:\n",
      "Epoch 104/120\n",
      "10000/10000 [==============================] - 7s 694us/step - loss: 0.2674 - acc: 0.8823 - val_loss: 0.4406 - val_acc: 0.8250\n",
      "Epoch 105/120\n",
      "10000/10000 [==============================] - 6s 643us/step - loss: 0.2612 - acc: 0.8890 - val_loss: 0.4043 - val_acc: 0.8230\n",
      "Epoch 106/120\n",
      "10000/10000 [==============================] - 6s 569us/step - loss: 0.2678 - acc: 0.8861 - val_loss: 0.4156 - val_acc: 0.8270\n",
      "Epoch 107/120\n",
      "10000/10000 [==============================] - 6s 555us/step - loss: 0.2640 - acc: 0.8829 - val_loss: 0.3964 - val_acc: 0.8260\n",
      "Epoch 108/120\n",
      "10000/10000 [==============================] - 6s 563us/step - loss: 0.2552 - acc: 0.8921 - val_loss: 0.4278 - val_acc: 0.8320\n",
      "Epoch 109/120\n",
      "10000/10000 [==============================] - 6s 567us/step - loss: 0.2607 - acc: 0.8912 - val_loss: 0.4415 - val_acc: 0.8300\n",
      "Epoch 110/120\n",
      "10000/10000 [==============================] - 6s 557us/step - loss: 0.2637 - acc: 0.8900 - val_loss: 0.4702 - val_acc: 0.8300\n",
      "Epoch 111/120\n",
      "10000/10000 [==============================] - 5s 548us/step - loss: 0.2597 - acc: 0.8896 - val_loss: 0.4045 - val_acc: 0.8250\n",
      "Epoch 112/120\n"
     ]
    },
    {
     "name": "stdout",
     "output_type": "stream",
     "text": [
      "10000/10000 [==============================] - 5s 532us/step - loss: 0.2540 - acc: 0.8887 - val_loss: 0.4101 - val_acc: 0.8250\n",
      "Epoch 113/120\n",
      "10000/10000 [==============================] - 6s 595us/step - loss: 0.2579 - acc: 0.8906 - val_loss: 0.4638 - val_acc: 0.8320\n",
      "Epoch 114/120\n",
      "10000/10000 [==============================] - 6s 561us/step - loss: 0.2554 - acc: 0.8900 - val_loss: 0.4172 - val_acc: 0.8280\n",
      "Epoch 115/120\n",
      "10000/10000 [==============================] - 6s 584us/step - loss: 0.2543 - acc: 0.8893 - val_loss: 0.4146 - val_acc: 0.8290\n",
      "Epoch 116/120\n",
      "10000/10000 [==============================] - 6s 556us/step - loss: 0.2494 - acc: 0.8899 - val_loss: 0.4364 - val_acc: 0.8330\n",
      "Epoch 117/120\n",
      "10000/10000 [==============================] - 5s 538us/step - loss: 0.2457 - acc: 0.8931 - val_loss: 0.4649 - val_acc: 0.8180\n",
      "Epoch 118/120\n",
      "10000/10000 [==============================] - 6s 556us/step - loss: 0.2591 - acc: 0.8885 - val_loss: 0.4250 - val_acc: 0.8270\n",
      "Epoch 119/120\n",
      "10000/10000 [==============================] - 5s 545us/step - loss: 0.2536 - acc: 0.8929 - val_loss: 0.4932 - val_acc: 0.8200\n",
      "Epoch 120/120\n",
      "10000/10000 [==============================] - 6s 559us/step - loss: 0.2522 - acc: 0.8899 - val_loss: 0.4586 - val_acc: 0.8240\n"
     ]
    }
   ],
   "source": [
    "# train\n",
    "history = model.fit([inputs_train, queries_train], answers_train,batch_size=32,epochs=120,validation_data=([inputs_test, queries_test], answers_test))"
   ]
  },
  {
   "cell_type": "code",
   "execution_count": 70,
   "metadata": {},
   "outputs": [
    {
     "name": "stdout",
     "output_type": "stream",
     "text": [
      "dict_keys(['val_loss', 'val_acc', 'loss', 'acc'])\n"
     ]
    },
    {
     "data": {
      "image/png": "[encoded data removed]",
      "text/plain": [
       "<Figure size 432x288 with 1 Axes>"
      ]
     },
     "metadata": {
      "needs_background": "light"
     },
     "output_type": "display_data"
    }
   ],
   "source": [
    "import matplotlib.pyplot as plt\n",
    "%matplotlib inline\n",
    "print(history.history.keys())\n",
    "# summarize history for accuracy\n",
    "plt.plot(history.history['acc'])\n",
    "plt.plot(history.history['val_acc'])\n",
    "plt.title('model accuracy')\n",
    "plt.ylabel('accuracy')\n",
    "plt.xlabel('epoch')\n",
    "plt.legend(['train', 'test'], loc='upper left')\n",
    "plt.show()"
   ]
  },
  {
   "cell_type": "code",
   "execution_count": 71,
   "metadata": {},
   "outputs": [],
   "source": [
    "model.save('chatbotModel.h5')"
   ]
  },
  {
   "cell_type": "code",
   "execution_count": 72,
   "metadata": {},
   "outputs": [],
   "source": [
    "pred_results = model.predict(([inputs_test,queries_test]))"
   ]
  },
  {
   "cell_type": "code",
   "execution_count": 74,
   "metadata": {},
   "outputs": [
    {
     "data": {
      "text/plain": [
       "array([[2.7781747e-21, 2.7630504e-21, 2.0567426e-21, ..., 2.7204415e-21,\n",
       "        2.6543731e-21, 2.7908894e-21],\n",
       "       [2.4661718e-17, 2.8547045e-17, 2.6932289e-17, ..., 3.0234851e-17,\n",
       "        3.3738676e-17, 3.0859180e-17],\n",
       "       [1.7672370e-15, 1.3764464e-15, 1.6870365e-15, ..., 1.9226913e-15,\n",
       "        1.6864960e-15, 1.5295387e-15],\n",
       "       ...,\n",
       "       [3.3853710e-22, 3.3823632e-22, 3.2305159e-22, ..., 4.3950897e-22,\n",
       "        3.7159898e-22, 4.4693804e-22],\n",
       "       [4.2329591e-21, 6.8693295e-21, 6.2467028e-21, ..., 7.3551381e-21,\n",
       "        7.9280229e-21, 9.7865160e-21],\n",
       "       [1.1137354e-12, 1.9966470e-12, 1.6024915e-12, ..., 1.7936171e-12,\n",
       "        1.9742513e-12, 2.4107233e-12]], dtype=float32)"
      ]
     },
     "execution_count": 74,
     "metadata": {},
     "output_type": "execute_result"
    }
   ],
   "source": [
    "pred_results"
   ]
  },
  {
   "cell_type": "code",
   "execution_count": 76,
   "metadata": {},
   "outputs": [
    {
     "data": {
      "text/plain": [
       "(1000, 38)"
      ]
     },
     "execution_count": 76,
     "metadata": {},
     "output_type": "execute_result"
    }
   ],
   "source": [
    "pred_results.shape"
   ]
  },
  {
   "cell_type": "code",
   "execution_count": 77,
   "metadata": {},
   "outputs": [],
   "source": [
    "val_max = np.argmax(pred_results[0])"
   ]
  },
  {
   "cell_type": "code",
   "execution_count": 78,
   "metadata": {},
   "outputs": [],
   "source": [
    "for key,val in tokenizer.word_index.items():\n",
    "    if val==val_max:\n",
    "        k=key"
   ]
  },
  {
   "cell_type": "code",
   "execution_count": 79,
   "metadata": {},
   "outputs": [
    {
     "data": {
      "text/plain": [
       "'no'"
      ]
     },
     "execution_count": 79,
     "metadata": {},
     "output_type": "execute_result"
    }
   ],
   "source": [
    "k "
   ]
  },
  {
   "cell_type": "code",
   "execution_count": 82,
   "metadata": {},
   "outputs": [
    {
     "data": {
      "text/plain": [
       "1.0"
      ]
     },
     "execution_count": 82,
     "metadata": {},
     "output_type": "execute_result"
    }
   ],
   "source": [
    "pred_results[0][val_max]"
   ]
  },
  {
   "cell_type": "code",
   "execution_count": 84,
   "metadata": {},
   "outputs": [],
   "source": [
    "my_story = \"John left the kitchen . Sandra dropped the football in the garden .\""
   ]
  },
  {
   "cell_type": "code",
   "execution_count": 85,
   "metadata": {},
   "outputs": [
    {
     "data": {
      "text/plain": [
       "['John',\n",
       " 'left',\n",
       " 'the',\n",
       " 'kitchen',\n",
       " '.',\n",
       " 'Sandra',\n",
       " 'dropped',\n",
       " 'the',\n",
       " 'football',\n",
       " 'in',\n",
       " 'the',\n",
       " 'garden',\n",
       " '.']"
      ]
     },
     "execution_count": 85,
     "metadata": {},
     "output_type": "execute_result"
    }
   ],
   "source": [
    "my_story.split()"
   ]
  },
  {
   "cell_type": "code",
   "execution_count": 86,
   "metadata": {},
   "outputs": [],
   "source": [
    "my_question = \"Is the football in the garden ?\""
   ]
  },
  {
   "cell_type": "code",
   "execution_count": 87,
   "metadata": {},
   "outputs": [
    {
     "data": {
      "text/plain": [
       "['Is', 'the', 'football', 'in', 'the', 'garden', '?']"
      ]
     },
     "execution_count": 87,
     "metadata": {},
     "output_type": "execute_result"
    }
   ],
   "source": [
    "my_question.split()"
   ]
  },
  {
   "cell_type": "code",
   "execution_count": 88,
   "metadata": {},
   "outputs": [],
   "source": [
    "mydata = [(my_story.split(),my_question.split(),'yes')]"
   ]
  },
  {
   "cell_type": "code",
   "execution_count": 89,
   "metadata": {},
   "outputs": [],
   "source": [
    "my_story,my_ques,my_ans = vectorize_stories(mydata)"
   ]
  },
  {
   "cell_type": "code",
   "execution_count": 90,
   "metadata": {},
   "outputs": [],
   "source": [
    "pred_results = model.predict(([ my_story, my_ques]))"
   ]
  },
  {
   "cell_type": "code",
   "execution_count": 91,
   "metadata": {},
   "outputs": [
    {
     "name": "stdout",
     "output_type": "stream",
     "text": [
      "Predicted answer is:  yes\n",
      "Probability of certainty was:  0.9571666\n"
     ]
    }
   ],
   "source": [
    "val_max = np.argmax(pred_results[0])\n",
    "\n",
    "for key, val in tokenizer.word_index.items():\n",
    "    if val == val_max:\n",
    "        k = key\n",
    "\n",
    "print(\"Predicted answer is: \", k)\n",
    "print(\"Probability of certainty was: \", pred_results[0][val_max])"
   ]
  },
  {
   "cell_type": "code",
   "execution_count": null,
   "metadata": {},
   "outputs": [],
   "source": []
  },
  {
   "cell_type": "code",
   "execution_count": null,
   "metadata": {},
   "outputs": [],
   "source": []
  },
  {
   "cell_type": "code",
   "execution_count": null,
   "metadata": {},
   "outputs": [],
   "source": []
  },
  {
   "cell_type": "code",
   "execution_count": null,
   "metadata": {},
   "outputs": [],
   "source": []
  },
  {
   "cell_type": "code",
   "execution_count": null,
   "metadata": {},
   "outputs": [],
   "source": []
  },
  {
   "cell_type": "code",
   "execution_count": null,
   "metadata": {},
   "outputs": [],
   "source": []
  },
  {
   "cell_type": "code",
   "execution_count": null,
   "metadata": {},
   "outputs": [],
   "source": []
  },
  {
   "cell_type": "code",
   "execution_count": null,
   "metadata": {},
   "outputs": [],
   "source": []
  },
  {
   "cell_type": "code",
   "execution_count": null,
   "metadata": {},
   "outputs": [],
   "source": []
  },
  {
   "cell_type": "code",
   "execution_count": null,
   "metadata": {},
   "outputs": [],
   "source": []
  },
  {
   "cell_type": "code",
   "execution_count": null,
   "metadata": {},
   "outputs": [],
   "source": []
  },
  {
   "cell_type": "code",
   "execution_count": null,
   "metadata": {},
   "outputs": [],
   "source": []
  },
  {
   "cell_type": "code",
   "execution_count": null,
   "metadata": {},
   "outputs": [],
   "source": []
  },
  {
   "cell_type": "code",
   "execution_count": null,
   "metadata": {},
   "outputs": [],
   "source": []
  },
  {
   "cell_type": "code",
   "execution_count": null,
   "metadata": {},
   "outputs": [],
   "source": []
  },
  {
   "cell_type": "code",
   "execution_count": null,
   "metadata": {},
   "outputs": [],
   "source": []
  },
  {
   "cell_type": "code",
   "execution_count": null,
   "metadata": {},
   "outputs": [],
   "source": []
  },
  {
   "cell_type": "code",
   "execution_count": null,
   "metadata": {},
   "outputs": [],
   "source": []
  },
  {
   "cell_type": "code",
   "execution_count": null,
   "metadata": {},
   "outputs": [],
   "source": []
  },
  {
   "cell_type": "code",
   "execution_count": null,
   "metadata": {},
   "outputs": [],
   "source": []
  },
  {
   "cell_type": "code",
   "execution_count": null,
   "metadata": {},
   "outputs": [],
   "source": []
  },
  {
   "cell_type": "code",
   "execution_count": null,
   "metadata": {},
   "outputs": [],
   "source": []
  },
  {
   "cell_type": "code",
   "execution_count": null,
   "metadata": {},
   "outputs": [],
   "source": []
  },
  {
   "cell_type": "code",
   "execution_count": null,
   "metadata": {},
   "outputs": [],
   "source": []
  },
  {
   "cell_type": "code",
   "execution_count": null,
   "metadata": {},
   "outputs": [],
   "source": []
  },
  {
   "cell_type": "code",
   "execution_count": null,
   "metadata": {},
   "outputs": [],
   "source": []
  },
  {
   "cell_type": "code",
   "execution_count": null,
   "metadata": {},
   "outputs": [],
   "source": []
  },
  {
   "cell_type": "code",
   "execution_count": null,
   "metadata": {},
   "outputs": [],
   "source": []
  }
 ],
 "metadata": {
  "kernelspec": {
   "display_name": "Python 3",
   "language": "python",
   "name": "python3"
  },
  "language_info": {
   "codemirror_mode": {
    "name": "ipython",
    "version": 3
   },
   "file_extension": ".py",
   "mimetype": "text/x-python",
   "name": "python",
   "nbconvert_exporter": "python",
   "pygments_lexer": "ipython3",
   "version": "3.7.1"
  }
 },
 "nbformat": 4,
 "nbformat_minor": 4
}
